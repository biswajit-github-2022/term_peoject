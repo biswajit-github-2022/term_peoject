{
 "cells": [
  {
   "cell_type": "code",
   "execution_count": 1,
   "id": "916d039d-64ab-4aaa-9b18-fe500ccab871",
   "metadata": {},
   "outputs": [
    {
     "name": "stderr",
     "output_type": "stream",
     "text": [
      "2024-06-03 22:56:09.775013: I tensorflow/core/platform/cpu_feature_guard.cc:210] This TensorFlow binary is optimized to use available CPU instructions in performance-critical operations.\n",
      "To enable the following instructions: AVX2 FMA, in other operations, rebuild TensorFlow with the appropriate compiler flags.\n",
      "2024-06-03 22:56:10.378118: W tensorflow/compiler/tf2tensorrt/utils/py_utils.cc:38] TF-TRT Warning: Could not find TensorRT\n"
     ]
    },
    {
     "name": "stdout",
     "output_type": "stream",
     "text": [
      "2.16.1\n"
     ]
    }
   ],
   "source": [
    "import tensorflow as tf\n",
    "print(tf.__version__)"
   ]
  },
  {
   "cell_type": "code",
   "execution_count": 2,
   "id": "70a16f0e-a06c-4c2b-8c21-ef20c0287ef6",
   "metadata": {},
   "outputs": [],
   "source": [
    "IMG_WIDTH=128\n",
    "IMG_HEIGHT=128\n",
    "IMG_CHANNELS=3"
   ]
  },
  {
   "cell_type": "code",
   "execution_count": 3,
   "id": "b19ffbc3-9497-4921-a124-808d5893623c",
   "metadata": {},
   "outputs": [],
   "source": [
    "inputs=tf.keras.layers.Input((IMG_WIDTH,IMG_HEIGHT,IMG_CHANNELS))"
   ]
  },
  {
   "cell_type": "code",
   "execution_count": 5,
   "id": "bd218307-94b4-4b84-b8ce-4df2f09210e9",
   "metadata": {},
   "outputs": [],
   "source": [
    "s=tf.keras.layers.Lambda(lambda x:x /255)(inputs)"
   ]
  },
  {
   "cell_type": "code",
   "execution_count": 4,
   "id": "e248490e-b1c5-4cee-abec-d5efcb84061c",
   "metadata": {},
   "outputs": [
    {
     "name": "stderr",
     "output_type": "stream",
     "text": [
      "2024-06-03 23:01:13.316109: E external/local_xla/xla/stream_executor/cuda/cuda_driver.cc:282] failed call to cuInit: CUDA_ERROR_NO_DEVICE: no CUDA-capable device is detected\n",
      "2024-06-03 23:01:13.316156: I external/local_xla/xla/stream_executor/cuda/cuda_diagnostics.cc:134] retrieving CUDA diagnostic information for host: arya16\n",
      "2024-06-03 23:01:13.316167: I external/local_xla/xla/stream_executor/cuda/cuda_diagnostics.cc:141] hostname: arya16\n",
      "2024-06-03 23:01:13.316285: I external/local_xla/xla/stream_executor/cuda/cuda_diagnostics.cc:165] libcuda reported version is: 535.161.8\n",
      "2024-06-03 23:01:13.316318: I external/local_xla/xla/stream_executor/cuda/cuda_diagnostics.cc:169] kernel reported version is: 470.239.6\n",
      "2024-06-03 23:01:13.316327: E external/local_xla/xla/stream_executor/cuda/cuda_diagnostics.cc:251] kernel version 470.239.6 does not match DSO version 535.161.8 -- cannot find working devices in this configuration\n"
     ]
    }
   ],
   "source": [
    "c1=tf.keras.layers.Conv2D(16,(3,3),activation='relu',kernel_initializer='he_normal',padding='same')(inputs)\n",
    "c1=tf.keras.layers.Dropout(0.1)(c1)\n",
    "c1=tf.keras.layers.Conv2D(16,(3,3),activation='relu',kernel_initializer='he_normal',padding='same')(c1)\n",
    "p1=tf.keras.layers.MaxPooling2D((2,2))"
   ]
  },
  {
   "cell_type": "code",
   "execution_count": null,
   "id": "c5a54b94-aecf-43ec-8f08-152376da0160",
   "metadata": {},
   "outputs": [],
   "source": []
  }
 ],
 "metadata": {
  "kernelspec": {
   "display_name": "Python 3 (ipykernel)",
   "language": "python",
   "name": "python3"
  },
  "language_info": {
   "codemirror_mode": {
    "name": "ipython",
    "version": 3
   },
   "file_extension": ".py",
   "mimetype": "text/x-python",
   "name": "python",
   "nbconvert_exporter": "python",
   "pygments_lexer": "ipython3",
   "version": "3.10.12"
  }
 },
 "nbformat": 4,
 "nbformat_minor": 5
}
